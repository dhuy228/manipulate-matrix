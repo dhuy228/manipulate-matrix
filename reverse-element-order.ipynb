{
  "nbformat": 4,
  "nbformat_minor": 0,
  "metadata": {
    "colab": {
      "name": "Welcome To Colaboratory",
      "version": "0.3.2",
      "provenance": [],
      "collapsed_sections": [],
      "toc_visible": true,
      "include_colab_link": true
    },
    "kernelspec": {
      "display_name": "Python 3",
      "name": "python3"
    }
  },
  "cells": [
    {
      "cell_type": "markdown",
      "metadata": {
        "id": "view-in-github",
        "colab_type": "text"
      },
      "source": [
        "<a href=\"https://colab.research.google.com/github/dhuy228/matipulate-matrix/blob/master/reverse-element-order.ipynb\" target=\"_parent\"><img src=\"https://colab.research.google.com/assets/colab-badge.svg\" alt=\"Open In Colab\"/></a>"
      ]
    },
    {
      "cell_type": "markdown",
      "metadata": {
        "colab_type": "text",
        "id": "5fCEDCU_qrC0"
      },
      "source": [
        "<p><img alt=\"Colaboratory logo\" height=\"45px\" src=\"https://colab.research.google.com/img/colab_favicon.ico\" align=\"left\" hspace=\"10px\" vspace=\"0px\"></p>\n",
        "\n",
        "<h1>The equivalent of np.flip(data,(0,2)) using np.flipud and np.fliplr</h1>\n",
        "\n",
        "Classic case when some packages need numpy  < 1.12.0, you would meet this Attribute Error\n",
        "\n",
        "For more details: https://stackoverflow.com/questions/45706896/attributeerror-module-numpy-has-no-attribute-flip\n",
        "\n",
        "This notebook shows a way to work around it using np.flipud() and np.fliplr()\n"
      ]
    },
    {
      "cell_type": "markdown",
      "metadata": {
        "id": "LYMH2pWvGmAK",
        "colab_type": "text"
      },
      "source": [
        ""
      ]
    },
    {
      "cell_type": "code",
      "metadata": {
        "id": "SCMp_Sx8GnCy",
        "colab_type": "code",
        "colab": {}
      },
      "source": [
        "import numpy as np"
      ],
      "execution_count": 0,
      "outputs": []
    },
    {
      "cell_type": "code",
      "metadata": {
        "id": "UzGPAFJcGpkI",
        "colab_type": "code",
        "colab": {
          "base_uri": "https://localhost:8080/",
          "height": 104
        },
        "outputId": "6e5842c6-a84d-4a7c-96d2-7cbacff19653"
      },
      "source": [
        "A = np.arange(8).reshape(2,2,2)\n",
        "A"
      ],
      "execution_count": 4,
      "outputs": [
        {
          "output_type": "execute_result",
          "data": {
            "text/plain": [
              "array([[[0, 1],\n",
              "        [2, 3]],\n",
              "\n",
              "       [[4, 5],\n",
              "        [6, 7]]])"
            ]
          },
          "metadata": {
            "tags": []
          },
          "execution_count": 4
        }
      ]
    },
    {
      "cell_type": "code",
      "metadata": {
        "id": "HZD6tgsKGyj7",
        "colab_type": "code",
        "colab": {
          "base_uri": "https://localhost:8080/",
          "height": 104
        },
        "outputId": "57f9765c-7964-45cd-d798-dcb57bd1de8b"
      },
      "source": [
        "np.flip(A,(0,2))"
      ],
      "execution_count": 5,
      "outputs": [
        {
          "output_type": "execute_result",
          "data": {
            "text/plain": [
              "array([[[5, 4],\n",
              "        [7, 6]],\n",
              "\n",
              "       [[1, 0],\n",
              "        [3, 2]]])"
            ]
          },
          "metadata": {
            "tags": []
          },
          "execution_count": 5
        }
      ]
    },
    {
      "cell_type": "code",
      "metadata": {
        "id": "Hby8S1aiHRkU",
        "colab_type": "code",
        "colab": {
          "base_uri": "https://localhost:8080/",
          "height": 104
        },
        "outputId": "56ff9cda-3297-40aa-cb13-6319485bc500"
      },
      "source": [
        "np.flipud(A)[:,:,::-1,...]"
      ],
      "execution_count": 17,
      "outputs": [
        {
          "output_type": "execute_result",
          "data": {
            "text/plain": [
              "array([[[5, 4],\n",
              "        [7, 6]],\n",
              "\n",
              "       [[1, 0],\n",
              "        [3, 2]]])"
            ]
          },
          "metadata": {
            "tags": []
          },
          "execution_count": 17
        }
      ]
    },
    {
      "cell_type": "markdown",
      "metadata": {
        "id": "WDwLOLguJaYU",
        "colab_type": "text"
      },
      "source": [
        "Here this code shows that **np.flip(A,(0,2)) == np.flipud(A)[:,:,::-1,...]**"
      ]
    },
    {
      "cell_type": "code",
      "metadata": {
        "id": "QZw6B9fmG3d7",
        "colab_type": "code",
        "colab": {
          "base_uri": "https://localhost:8080/",
          "height": 208
        },
        "outputId": "af97171b-922f-4c70-dca4-a284ba0574f4"
      },
      "source": [
        "# Another example\n",
        "B = np.arange(27).reshape(3,3,3)\n",
        "B"
      ],
      "execution_count": 25,
      "outputs": [
        {
          "output_type": "execute_result",
          "data": {
            "text/plain": [
              "array([[[ 0,  1,  2],\n",
              "        [ 3,  4,  5],\n",
              "        [ 6,  7,  8]],\n",
              "\n",
              "       [[ 9, 10, 11],\n",
              "        [12, 13, 14],\n",
              "        [15, 16, 17]],\n",
              "\n",
              "       [[18, 19, 20],\n",
              "        [21, 22, 23],\n",
              "        [24, 25, 26]]])"
            ]
          },
          "metadata": {
            "tags": []
          },
          "execution_count": 25
        }
      ]
    },
    {
      "cell_type": "code",
      "metadata": {
        "id": "pphVUVdoJrz2",
        "colab_type": "code",
        "colab": {
          "base_uri": "https://localhost:8080/",
          "height": 208
        },
        "outputId": "6987ccf8-de98-4f13-fba7-270f3860e25f"
      },
      "source": [
        "np.flip(B,(0,2))"
      ],
      "execution_count": 26,
      "outputs": [
        {
          "output_type": "execute_result",
          "data": {
            "text/plain": [
              "array([[[20, 19, 18],\n",
              "        [23, 22, 21],\n",
              "        [26, 25, 24]],\n",
              "\n",
              "       [[11, 10,  9],\n",
              "        [14, 13, 12],\n",
              "        [17, 16, 15]],\n",
              "\n",
              "       [[ 2,  1,  0],\n",
              "        [ 5,  4,  3],\n",
              "        [ 8,  7,  6]]])"
            ]
          },
          "metadata": {
            "tags": []
          },
          "execution_count": 26
        }
      ]
    },
    {
      "cell_type": "code",
      "metadata": {
        "id": "M-owN-6HKGJP",
        "colab_type": "code",
        "colab": {
          "base_uri": "https://localhost:8080/",
          "height": 208
        },
        "outputId": "f45d4f72-9a25-4f41-fe7f-3653147e1e60"
      },
      "source": [
        "np.flipud(B)[:,:,::-1,...]"
      ],
      "execution_count": 27,
      "outputs": [
        {
          "output_type": "execute_result",
          "data": {
            "text/plain": [
              "array([[[20, 19, 18],\n",
              "        [23, 22, 21],\n",
              "        [26, 25, 24]],\n",
              "\n",
              "       [[11, 10,  9],\n",
              "        [14, 13, 12],\n",
              "        [17, 16, 15]],\n",
              "\n",
              "       [[ 2,  1,  0],\n",
              "        [ 5,  4,  3],\n",
              "        [ 8,  7,  6]]])"
            ]
          },
          "metadata": {
            "tags": []
          },
          "execution_count": 27
        }
      ]
    },
    {
      "cell_type": "code",
      "metadata": {
        "id": "vgb1SOW5KR2j",
        "colab_type": "code",
        "colab": {
          "base_uri": "https://localhost:8080/",
          "height": 35
        },
        "outputId": "357f8a67-5135-4eee-fc9d-4413efa2ca76"
      },
      "source": [
        "np.all(np.flip(B,(0,2)) == np.flipud(B)[:,:,::-1,...])"
      ],
      "execution_count": 28,
      "outputs": [
        {
          "output_type": "execute_result",
          "data": {
            "text/plain": [
              "True"
            ]
          },
          "metadata": {
            "tags": []
          },
          "execution_count": 28
        }
      ]
    },
    {
      "cell_type": "markdown",
      "metadata": {
        "id": "oNyy3RQrKYLp",
        "colab_type": "text"
      },
      "source": [
        "Example on non-square matrix"
      ]
    },
    {
      "cell_type": "code",
      "metadata": {
        "id": "kJRqiBb8KXLo",
        "colab_type": "code",
        "colab": {
          "base_uri": "https://localhost:8080/",
          "height": 35
        },
        "outputId": "043fbe1f-8f98-47dc-d310-265ef49c1c3e"
      },
      "source": [
        "# Non-square matrix\n",
        "C = np.arange(53477376).reshape(512,512,204)\n",
        "np.all(np.flip(C,(0,2)) == np.flipud(C)[:,:,::-1,...])"
      ],
      "execution_count": 39,
      "outputs": [
        {
          "output_type": "execute_result",
          "data": {
            "text/plain": [
              "True"
            ]
          },
          "metadata": {
            "tags": []
          },
          "execution_count": 39
        }
      ]
    }
  ]
}